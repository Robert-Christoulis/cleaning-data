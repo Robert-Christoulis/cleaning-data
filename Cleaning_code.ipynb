{
  "nbformat": 4,
  "nbformat_minor": 0,
  "metadata": {
    "colab": {
      "name": "Cleaning code.ipynb",
      "provenance": []
    },
    "kernelspec": {
      "name": "python3",
      "display_name": "Python 3"
    }
  },
  "cells": [
    {
      "cell_type": "code",
      "metadata": {
        "id": "LLzxiXjIdRMU",
        "colab_type": "code",
        "colab": {}
      },
      "source": [
        "#Importing pandas and numpy\n",
        "\n",
        "import pandas as pd\n",
        "import numpy as np\n",
        "\n",
        "\n",
        "#load file\n",
        "df = pd.read_excel('/content/Unclean YTD 2-15-2020.xlsx')\n"
      ],
      "execution_count": 0,
      "outputs": []
    },
    {
      "cell_type": "code",
      "metadata": {
        "id": "4YhQjnwneqqz",
        "colab_type": "code",
        "colab": {}
      },
      "source": [
        "exit_reasons = ['Rental by client with RRH or equivalent subsidy', \n",
        "                'Rental by client, no ongoing housing subsidy', \n",
        "                'Staying or living with family, permanent tenure', \n",
        "                'Rental by client, other ongoing housing subsidy',\n",
        "                'Permanent housing (other than RRH) for formerly homeless persons', \n",
        "                'Staying or living with friends, permanent tenure', \n",
        "                'Owned by client, with ongoing housing subsidy', \n",
        "                'Rental by client, VASH housing Subsidy'\n",
        "               ]"
      ],
      "execution_count": 0,
      "outputs": []
    },
    {
      "cell_type": "code",
      "metadata": {
        "id": "QZQpyWeOjtme",
        "colab_type": "code",
        "colab": {}
      },
      "source": [
        "# create target column (multiple types of exits to perm)\n",
        "df['perm_leaver'] = df['3.12 Exit Destination'].isin(exit_reasons)\n",
        "\n",
        "# replace spaces with underscore\n",
        "df.columns = df.columns.str.replace(' ', '_')\n"
      ],
      "execution_count": 0,
      "outputs": []
    },
    {
      "cell_type": "code",
      "metadata": {
        "id": "oqJBKRDXkI3N",
        "colab_type": "code",
        "colab": {}
      },
      "source": [
        "train = df\n",
        "def wrangle(X):\n",
        "  #Prevent SettingWithCopyWarning\n",
        "    X = X.copy()\n",
        "    \n",
        "    # drop any private information\n",
        "    X = X.drop(columns=['3.1_FirstName', '3.1_LastName', '3.2_SocSecNo', \n",
        "                      '3.3_Birthdate', 'V5_Prior_Address'])\n",
        "    \n",
        "    # drop unusable columns\n",
        "    X = X.drop(columns=['2.1_Organization_Name', '2.4_ProjectType',\n",
        "                        'WorkSource_Referral_Most_Recent', 'YAHP_Referral_Most_Recent',\n",
        "                        'SOAR_Enrollment_Determination_(Most_Recent)',\n",
        "                        'R7_General_Health_Status', 'R8_Dental_Health_Status',\n",
        "                        'R9_Mental_Health_Status', 'RRH_Date_Of_Move-In',\n",
        "                        'RRH_In_Permanent_Housing', 'R10_Pregnancy_Due_Date',\n",
        "                        'R10_Pregnancy_Status', 'R1_Referral_Source',\n",
        "                        'R2_Date_Status_Determined', 'R2_Enroll_Status',\n",
        "                        'R2_Reason_Why_No_Services_Funded', 'R2_Runaway_Youth',\n",
        "                        'R3_Sexual_Orientation', '2.5_Utilization_Tracking_Method_(Invalid)',\n",
        "                        '2.2_Project_Name', '2.6_Federal_Grant_Programs', '3.16_Client_Location',\n",
        "                        '3.917_Stayed_Less_Than_90_Days', \n",
        "                        '3.917b_Stayed_in_Streets,_ES_or_SH_Night_Before', \n",
        "                        '3.917b_Stayed_Less_Than_7_Nights', '4.24_In_School_(Retired_Data_Element)',\n",
        "                        'CaseChildren', 'ClientID', 'HEN-HP_Referral_Most_Recent',\n",
        "                        'HEN-RRH_Referral_Most_Recent', 'Emergency_Shelter_|_Most_Recent_Enrollment',\n",
        "                        'ProgramType', 'Days_Enrolled_Until_RRH_Date_of_Move-in',\n",
        "                        'CurrentDate', 'Current_Age', 'Count_of_Bed_Nights_-_Entire_Episode',\n",
        "                        'Bed_Nights_During_Report_Period'])\n",
        "    \n",
        "    # drop rows with no exit destination (current guests at time of report)\n",
        "    #X = X.dropna(subset=['3.12_Exit_Destination'])\n",
        "\n",
        "    # Drop columns with timestamp\n",
        "    timestamp_columns = ['3.10_Enroll_Date', '3.11_Exit_Date', \n",
        "                         'Date_of_Last_ES_Stay_(Beta)', 'Date_of_First_ES_Stay_(Beta)', \n",
        "                         'Prevention_|_Most_Recent_Enrollment', 'PSH_|_Most_Recent_Enrollment', \n",
        "                         'Transitional_Housing_|_Most_Recent_Enrollment', 'Coordinated_Entry_|_Most_Recent_Enrollment', \n",
        "                         'Street_Outreach_|_Most_Recent_Enrollment', 'RRH_|_Most_Recent_Enrollment', \n",
        "                         'SOAR_Eligibility_Determination_(Most_Recent)', 'Date_of_First_Contact_(Beta)',\n",
        "                         'Date_of_Last_Contact_(Beta)', '4.13_Engagement_Date', '4.11_Domestic_Violence_-_When_it_Occurred',\n",
        "                         '3.917_Homeless_Start_Date']\n",
        "    X = X.drop(columns=timestamp_columns)\n",
        "\n",
        "    return X"
      ],
      "execution_count": 0,
      "outputs": []
    },
    {
      "cell_type": "code",
      "metadata": {
        "id": "fC_zsQYgky6y",
        "colab_type": "code",
        "colab": {}
      },
      "source": [
        "train = wrangle(train)"
      ],
      "execution_count": 0,
      "outputs": []
    },
    {
      "cell_type": "code",
      "metadata": {
        "id": "4VotG_4dlWlE",
        "colab_type": "code",
        "colab": {}
      },
      "source": [
        "train.to_excel('Test.xlsx')"
      ],
      "execution_count": 0,
      "outputs": []
    }
  ]
}